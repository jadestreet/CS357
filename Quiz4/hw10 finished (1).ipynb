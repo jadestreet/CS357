{
 "cells": [
  {
   "cell_type": "markdown",
   "id": "2a1b36e5-b6b0-4436-a8de-de0f7733538e",
   "metadata": {},
   "source": [
    "## 1. Averaging Neighboring Values COO"
   ]
  },
  {
   "cell_type": "code",
   "execution_count": 5,
   "id": "9aefeb4e-2234-4d51-80a6-90e4c0438af0",
   "metadata": {
    "tags": []
   },
   "outputs": [
    {
     "data": {
      "text/plain": [
       "144.0"
      ]
     },
     "execution_count": 5,
     "metadata": {},
     "output_type": "execute_result"
    }
   ],
   "source": [
    "'''\n",
    "n: size\n",
    "\n",
    "'''\n",
    "n = 5\n",
    "total = n**2\n",
    "\n",
    "num = 2\n",
    "rc = 2*n - 1 #how many data\n",
    "fsize = 64\n",
    "intsize = 32\n",
    "tsize = (fsize*rc + intsize*rc*2)/8\n",
    "tsize"
   ]
  },
  {
   "cell_type": "code",
   "execution_count": 1,
   "id": "14cb05f7-b46d-4932-987d-99f25153a893",
   "metadata": {},
   "outputs": [
    {
     "data": {
      "text/plain": [
       "384.0"
      ]
     },
     "execution_count": 1,
     "metadata": {},
     "output_type": "execute_result"
    }
   ],
   "source": [
    "'''\n",
    "n: size\n",
    "num:  -2 -1 0 1 2\n",
    "'''\n",
    "n = 6\n",
    "p5 = 5\n",
    "fsize = 64\n",
    "intsize = 32\n",
    "\n",
    "total = n**2\n",
    "rc = (p5-2 + p5-1 +p5)*2 #how many data\n",
    "\n",
    "tsize = (fsize*rc + intsize*rc*2)/8\n",
    "tsize"
   ]
  },
  {
   "cell_type": "markdown",
   "id": "dedbc1cf-4c48-43d0-90aa-4545b517f7a3",
   "metadata": {},
   "source": [
    "## 2. CSR vs Dense format"
   ]
  },
  {
   "cell_type": "code",
   "execution_count": 3,
   "id": "4889def0-4c44-4d3d-b490-df0f0d2e6d41",
   "metadata": {},
   "outputs": [
    {
     "data": {
      "text/latex": [
       "$\\displaystyle 4004$"
      ],
      "text/plain": [
       "4004"
      ]
     },
     "execution_count": 3,
     "metadata": {},
     "output_type": "execute_result"
    }
   ],
   "source": [
    "import sympy as sp\n",
    "from sympy import *\n",
    "'''\n",
    "n: size*size of matrix\n",
    "dsto: Dense Representation\n",
    "dcsr: CSR format\n",
    "'''\n",
    "n = 90\n",
    "dsto = 4\n",
    "dcsr = 4\n",
    "\n",
    "S = pow(n,2)\n",
    "\n",
    "dense = dsto*S\n",
    "x = sp.var('x')#num of non-zero element\n",
    "\n",
    "csr = (2*x + n + 1)*4\n",
    "\n",
    "result = solve(csr - dense, x)\n",
    "floor(float(result[0]))"
   ]
  },
  {
   "cell_type": "markdown",
   "id": "9af67673-2311-4079-ae86-771d640dda9c",
   "metadata": {},
   "source": [
    "## 3. Representing a Sparse Matrix in COO Format"
   ]
  },
  {
   "cell_type": "code",
   "execution_count": 19,
   "id": "d5616d65-f248-43c5-8fb3-fbc9a6086dc4",
   "metadata": {},
   "outputs": [
    {
     "data": {
      "text/plain": [
       "112.0"
      ]
     },
     "execution_count": 19,
     "metadata": {},
     "output_type": "execute_result"
    }
   ],
   "source": [
    "n = 5\n",
    "total = n**2\n",
    "rc = 7 #how many data\n",
    "fsize = 64\n",
    "intsize = 32\n",
    "tsize = (fsize*rc + intsize*rc*2)/8\n",
    "tsize"
   ]
  },
  {
   "cell_type": "markdown",
   "id": "8930261b-db52-4681-b375-be66c5f7525c",
   "metadata": {},
   "source": [
    "## 4. Construct a Matrix from CSR Format"
   ]
  },
  {
   "cell_type": "code",
   "execution_count": 28,
   "id": "a4b584df-1476-47d2-9b35-67d57a520ef0",
   "metadata": {},
   "outputs": [
    {
     "data": {
      "text/plain": [
       "array([[0. , 0. , 0. , 0.7],\n",
       "       [0. , 0.3, 0.4, 0.6],\n",
       "       [0.5, 0. , 0. , 0. ],\n",
       "       [0.8, 0. , 0. , 0.1]])"
      ]
     },
     "execution_count": 28,
     "metadata": {},
     "output_type": "execute_result"
    }
   ],
   "source": [
    "import scipy.sparse as sparse\n",
    "data = [0.70, 0.30, 0.40, 0.60, 0.50, 0.80, 0.10]\n",
    "rowptr = [0,1,4,5,7]\n",
    "col = [3,1,2,3,0,0,3]\n",
    "n = len(rowptr) - 1\n",
    "sparse.csr_matrix((data,col,rowptr), shape =(n,n)).toarray()"
   ]
  },
  {
   "cell_type": "markdown",
   "id": "c87341f2-0f6d-48c9-9158-5b64b471b04c",
   "metadata": {},
   "source": [
    "## 5.Representing a Sparse Matrix in CSR Format"
   ]
  },
  {
   "cell_type": "code",
   "execution_count": 4,
   "id": "55ec6475-2b75-4e8f-b598-c9bcc4be2b80",
   "metadata": {},
   "outputs": [
    {
     "name": "stdout",
     "output_type": "stream",
     "text": [
      "[6.2 2.6 6.6 5.  8.9 2.6 6. ]\n",
      "float64 Length:  7\n",
      "-\n",
      "[0 1 2 3 6 7]\n",
      "int32 Length:  6\n",
      "-\n",
      "[3 3 0 0 1 2 0]\n",
      "int32 Length:  7\n"
     ]
    },
    {
     "data": {
      "text/plain": [
       "108.0"
      ]
     },
     "execution_count": 4,
     "metadata": {},
     "output_type": "execute_result"
    }
   ],
   "source": [
    "import scipy.sparse as sparse\n",
    "\n",
    "A = [\n",
    "    [0,0,0,6.2,0],\n",
    "    [0,0,0,2.6,0],\n",
    "    [6.6,0,0,0,0],\n",
    "    [5.00,8.90,2.60,0,0],\n",
    "    [6.00,0,0,0,0]]\n",
    "fsize = 64\n",
    "intsize = 32\n",
    "# Step1: information\n",
    "A = sparse.coo_matrix(A)\n",
    "A = A.tocsr()\n",
    "print(A.data)\n",
    "print(A.data.dtype, 'Length: ', len(A.data))\n",
    "print('-')\n",
    "print(A.indptr)\n",
    "print(A.indptr.dtype, 'Length: ', len(A.indptr))\n",
    "print('-')\n",
    "print(A.indices)\n",
    "print(A.indices.dtype, 'Length: ', len(A.indices))\n",
    "# Step2: type\n",
    "n = len(A.indptr) - 1 # number of col\n",
    "rc = len(A.data) #how many data\n",
    "\n",
    "tsize = (fsize*rc + intsize*(n+1+rc))/8\n",
    "tsize"
   ]
  },
  {
   "cell_type": "markdown",
   "id": "db4f1be9-2476-4f71-824a-825c9de92ab2",
   "metadata": {},
   "source": [
    "## C1:  Storing Player Attributes in a COO Matrix"
   ]
  },
  {
   "cell_type": "code",
   "execution_count": 5,
   "id": "d0372b3d-1aa8-4226-a7f7-e9317f7adbeb",
   "metadata": {},
   "outputs": [
    {
     "ename": "NameError",
     "evalue": "name 'player_attributes' is not defined",
     "output_type": "error",
     "traceback": [
      "\u001b[0;31m---------------------------------------------------------------------------\u001b[0m",
      "\u001b[0;31mNameError\u001b[0m                                 Traceback (most recent call last)",
      "\u001b[0;32m/tmp/ipykernel_136/1127760602.py\u001b[0m in \u001b[0;36m<module>\u001b[0;34m\u001b[0m\n\u001b[1;32m      9\u001b[0m \u001b[0;34m\u001b[0m\u001b[0m\n\u001b[1;32m     10\u001b[0m \u001b[0mcount\u001b[0m \u001b[0;34m=\u001b[0m \u001b[0;36m0\u001b[0m\u001b[0;34m\u001b[0m\u001b[0;34m\u001b[0m\u001b[0m\n\u001b[0;32m---> 11\u001b[0;31m \u001b[0;32mfor\u001b[0m \u001b[0mi\u001b[0m \u001b[0;32min\u001b[0m \u001b[0mplayer_attributes\u001b[0m\u001b[0;34m:\u001b[0m\u001b[0;31m#work through each player\u001b[0m\u001b[0;34m\u001b[0m\u001b[0;34m\u001b[0m\u001b[0m\n\u001b[0m\u001b[1;32m     12\u001b[0m     \u001b[0;32mfor\u001b[0m \u001b[0mkey\u001b[0m \u001b[0;32min\u001b[0m \u001b[0mi\u001b[0m\u001b[0;34m:\u001b[0m \u001b[0;31m#walk through att of this player\u001b[0m\u001b[0;34m\u001b[0m\u001b[0;34m\u001b[0m\u001b[0m\n\u001b[1;32m     13\u001b[0m \u001b[0;34m\u001b[0m\u001b[0m\n",
      "\u001b[0;31mNameError\u001b[0m: name 'player_attributes' is not defined"
     ]
    }
   ],
   "source": [
    "'''\n",
    "row is player\n",
    "col is attribute\n",
    "'''\n",
    "import numpy as np\n",
    "data = []\n",
    "row = []\n",
    "col = []\n",
    "\n",
    "count = 0\n",
    "for i in player_attributes:#work through each player\n",
    "    for key in i: #walk through att of this player\n",
    "        \n",
    "        for idx in range(len(all_attributes)): #locate\n",
    "            if (key == all_attributes[idx]):\n",
    "                data.append(i[key])\n",
    "                row.append(count)\n",
    "                col.append(idx)\n",
    "                \n",
    "    count+=1"
   ]
  },
  {
   "cell_type": "code",
   "execution_count": null,
   "id": "12553ac5-bfcf-4256-bf05-173ecadc0344",
   "metadata": {},
   "outputs": [],
   "source": []
  }
 ],
 "metadata": {
  "kernelspec": {
   "display_name": "Python 3 (ipykernel)",
   "language": "python",
   "name": "python3"
  },
  "language_info": {
   "codemirror_mode": {
    "name": "ipython",
    "version": 3
   },
   "file_extension": ".py",
   "mimetype": "text/x-python",
   "name": "python",
   "nbconvert_exporter": "python",
   "pygments_lexer": "ipython3",
   "version": "3.9.6"
  }
 },
 "nbformat": 4,
 "nbformat_minor": 5
}
