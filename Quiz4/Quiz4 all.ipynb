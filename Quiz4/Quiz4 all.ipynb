{
 "cells": [
  {
   "cell_type": "markdown",
   "id": "66029e0e-68d1-47b7-ac72-54274fabb195",
   "metadata": {},
   "source": [
    "## 1.Estimate Condition Number"
   ]
  },
  {
   "cell_type": "code",
   "execution_count": 38,
   "id": "afab40ae-a6cf-494a-a67c-1d8ef296cc57",
   "metadata": {},
   "outputs": [
    {
     "data": {
      "text/plain": [
       "3999.9999999999995"
      ]
     },
     "execution_count": 38,
     "metadata": {},
     "output_type": "execute_result"
    }
   ],
   "source": [
    "pb = -5\n",
    "rx = 0.04\n",
    "con = rx/pow(10, pb)\n",
    "con"
   ]
  },
  {
   "cell_type": "markdown",
   "id": "2a8133cb-b9ac-4828-9e31-a9599d815367",
   "metadata": {},
   "source": [
    "## 2.Approximate Matrix Condition Number"
   ]
  },
  {
   "cell_type": "code",
   "execution_count": 91,
   "id": "0c5115f6-c355-4f09-baaa-2db6d9c0e5b5",
   "metadata": {},
   "outputs": [
    {
     "name": "stdout",
     "output_type": "stream",
     "text": [
      "6.0\n"
     ]
    }
   ],
   "source": [
    "a1 = 2\n",
    "b1 = 4\n",
    "c1 = 6\n",
    "a2 = 10\n",
    "b2 = 80\n",
    "c2 = 180\n",
    "\n",
    "a = a2/a1\n",
    "b = b2/b1\n",
    "c = c2/c1\n",
    "print(max(a,b,c)/min(a,b,c))\n",
    "#最大norm/最小norm=>最大cond"
   ]
  },
  {
   "cell_type": "markdown",
   "id": "41f3405b-8bf6-4714-83e6-4768fca48449",
   "metadata": {},
   "source": [
    "## 3. PageRank Transition Matrix"
   ]
  },
  {
   "cell_type": "code",
   "execution_count": 3,
   "id": "7b02e65e-897c-490e-a9a2-64b3e0757f4d",
   "metadata": {},
   "outputs": [
    {
     "data": {
      "text/plain": [
       "array([[0.025, 0.925, 0.025, 0.25 ],\n",
       "       [0.475, 0.025, 0.475, 0.25 ],\n",
       "       [0.475, 0.025, 0.025, 0.25 ],\n",
       "       [0.025, 0.025, 0.475, 0.25 ]])"
      ]
     },
     "execution_count": 3,
     "metadata": {},
     "output_type": "execute_result"
    }
   ],
   "source": [
    "import numpy as np\n",
    "N = 4\n",
    "df = 0.9\n",
    "A = np.array([\n",
    "    [0,1,0,0],\n",
    "    [1,0,1,0],\n",
    "    [1,0,0,0],\n",
    "    [0,0,1,0]\n",
    "])\n",
    "\n",
    "def sum_one(arr:np.ndarray):\n",
    "    copy = np.zeros([4,4])\n",
    "    s = sum(arr)\n",
    "    new = arr.T\n",
    "    \n",
    "    for i in range(len(new)):\n",
    "        if s[i] != 0:\n",
    "            copy[i] = new[i]/s[i]\n",
    "    return copy.T\n",
    "\n",
    "B = sum_one(A)\n",
    "#print(B)\n",
    "C = np.zeros((N,N))\n",
    "for i in range(len(B)):\n",
    "    for j in range(len(B[i])):\n",
    "        if sum(B.T[j]) != 0:\n",
    "            C[i][j] = df*B[i][j] + (1-df)/N\n",
    "        else: C[i][j] = 1/N #why?\n",
    "C"
   ]
  },
  {
   "cell_type": "markdown",
   "id": "4e51e194-b3a2-43a4-8141-ab248afefb42",
   "metadata": {},
   "source": [
    "## 4.1 Representing a Sparse Matrix in COO Format"
   ]
  },
  {
   "cell_type": "code",
   "execution_count": 36,
   "id": "609d4d19-0e53-4745-9521-bc13a0d97fb8",
   "metadata": {},
   "outputs": [
    {
     "name": "stdout",
     "output_type": "stream",
     "text": [
      "[0.9 1.3 0.4 0.6 1.2]\n",
      "Data:  [0.9 1.3 0.4 0.6 1.2]\n",
      "-\n",
      "Row:  [0 0 0 3 3]\n",
      "-\n",
      "Col:  [0 1 2 1 3]\n"
     ]
    }
   ],
   "source": [
    "#普通matrix->COO\n",
    "import scipy.sparse as sparse\n",
    "A = [[0.9,1.3,0.4,0],\n",
    "     [0,0,0,0],\n",
    "     [0,0,0,0],\n",
    "     [0,0.6,0,1.2]\n",
    "    ]\n",
    "# Step1: information\n",
    "A = sparse.coo_matrix(A)\n",
    "print('Data: ', A.data)\n",
    "print('-')\n",
    "print('Row: ', A.row)\n",
    "print('-')\n",
    "print('Col: ', A.col)\n"
   ]
  },
  {
   "cell_type": "markdown",
   "id": "834ac525-bc09-49b4-8f39-4ad63c89ad8e",
   "metadata": {},
   "source": [
    "## 4.2 Representing a Sparse Matrix in CSR Format"
   ]
  },
  {
   "cell_type": "code",
   "execution_count": 76,
   "id": "dc4cfcef-8da6-4f9e-9fcf-651df544f4d4",
   "metadata": {},
   "outputs": [
    {
     "name": "stdout",
     "output_type": "stream",
     "text": [
      "Data:  [0.8 0.5 0.4 0.3 0.1 0.7 0.3 0.6]\n",
      "-\n",
      "Rowptr:  [0 2 3 6 8]\n",
      "-\n",
      "Col:  [0 3 3 0 1 3 0 3]\n"
     ]
    }
   ],
   "source": [
    "import scipy.sparse as sparse\n",
    "A = [[0.8,0,0,0.5],\n",
    "     [0,0,0,0.4],\n",
    "     [0.3,0.1,0,0.7],\n",
    "     [0.3,0,0,0.6]\n",
    "    ]\n",
    "# Step1: information\n",
    "A = sparse.csr_matrix(A)\n",
    "print('Data: ', A.data)\n",
    "print('-')\n",
    "print('Rowptr: ', A.indptr)\n",
    "print('-')\n",
    "print('Col: ', A.indices)"
   ]
  },
  {
   "cell_type": "markdown",
   "id": "297407d1-620f-4a7d-81d3-3f7b5bca94ce",
   "metadata": {},
   "source": [
    "## 5. Finding the Eigenvalues of Transformed Matrices"
   ]
  },
  {
   "cell_type": "code",
   "execution_count": 35,
   "id": "f85a0b68-b208-4ae9-b805-264bd57085ef",
   "metadata": {},
   "outputs": [
    {
     "name": "stdout",
     "output_type": "stream",
     "text": [
      "0.001736111111111111\n"
     ]
    }
   ],
   "source": [
    "'''\n",
    "find eigenvalue of ((c1*A-c2*I)^(-1))^(p)\n",
    "'''\n",
    "a1e = 8 #eigen1\n",
    "a2e = 7 #eigen2\n",
    "c1 = 4\n",
    "c2 = 4\n",
    "p = 2\n",
    "\n",
    "e1 = 1/(c1*a1e - c2)\n",
    "e2 = 1/(c1*a2e - c2)\n",
    "\n",
    "e11 = pow(e1,p)\n",
    "e22 = pow(e2,p)\n",
    "\n",
    "print(max(e11, e22))"
   ]
  },
  {
   "cell_type": "markdown",
   "id": "583c7321-bdd6-44de-ac8b-44687500b151",
   "metadata": {},
   "source": [
    "## 6.Matrix Condition Number: Changing the Right-Hand Side"
   ]
  },
  {
   "cell_type": "code",
   "execution_count": 15,
   "id": "9838c0a2-afb8-44ea-bca6-d8555b0b1ff3",
   "metadata": {},
   "outputs": [
    {
     "data": {
      "text/plain": [
       "0.0064"
      ]
     },
     "execution_count": 15,
     "metadata": {},
     "output_type": "execute_result"
    }
   ],
   "source": [
    "'''\n",
    "b: power\n",
    "A: cond A\n",
    "B: cond B\n",
    "'''\n",
    "b = -4\n",
    "A = 4\n",
    "B = 16\n",
    "\n",
    "x = A*B*pow(10,b)\n",
    "x"
   ]
  },
  {
   "cell_type": "markdown",
   "id": "d53a16d5-0e41-4176-927d-a142ef5c9d79",
   "metadata": {},
   "source": [
    "## 6.2 Matrix Condition Number: Changing the Matrix"
   ]
  },
  {
   "cell_type": "code",
   "execution_count": 88,
   "id": "b7f26d2c-1438-45c4-9402-7e79be7c9943",
   "metadata": {},
   "outputs": [
    {
     "data": {
      "text/plain": [
       "-9"
      ]
     },
     "execution_count": 88,
     "metadata": {},
     "output_type": "execute_result"
    }
   ],
   "source": [
    "# 2 8\n",
    "A = -11\n",
    "cA = 2\n",
    "x =  A+cA\n",
    "x"
   ]
  },
  {
   "cell_type": "markdown",
   "id": "f7df8a42-a84a-4ce5-832e-30d0c1ec3eb6",
   "metadata": {},
   "source": [
    "## 7. Power Iteration"
   ]
  },
  {
   "cell_type": "code",
   "execution_count": 28,
   "id": "66a81f3c-473c-4229-8617-b52970a5765b",
   "metadata": {},
   "outputs": [
    {
     "name": "stdout",
     "output_type": "stream",
     "text": [
      "5\n"
     ]
    }
   ],
   "source": [
    "import numpy as np\n",
    "from numpy.linalg import eig\n",
    "A = np.array([\n",
    "    [1,-8],\n",
    "    [0,4]\n",
    "])\n",
    "pl = -3 #power least\n",
    "\n",
    "#S1: find eigenvalues\n",
    "w,v=eig(A)\n",
    "eva1 = max(w)\n",
    "eva2 = min(w)\n",
    "#print(eva1, eva2)\n",
    "#S2 get iterations\n",
    "num = 1 #number of iterations（初始）\n",
    "it = abs(eva2/eva1) #初始值\n",
    "t = it #最终的值\n",
    "while 1 > 0:\n",
    "    t = t*it\n",
    "    num = num + 1\n",
    "    if t < pow(10,pl):\n",
    "        break\n",
    "print(num)\n"
   ]
  },
  {
   "cell_type": "markdown",
   "id": "b01ff18c-ea29-4534-be79-ba98763172d1",
   "metadata": {},
   "source": [
    "## 8. Find Normalized Eigenvector Given Diagonalization"
   ]
  },
  {
   "cell_type": "markdown",
   "id": "0cf378ee-3e97-4ede-ac9b-7b05d9b95afe",
   "metadata": {},
   "source": [
    "### inverse"
   ]
  },
  {
   "cell_type": "code",
   "execution_count": 72,
   "id": "e34f1a03-17dc-4681-915f-b9f6755f1d44",
   "metadata": {},
   "outputs": [
    {
     "name": "stdout",
     "output_type": "stream",
     "text": [
      "[0.14814815 0.33333333 0.51851852]\n"
     ]
    }
   ],
   "source": [
    "import numpy as np\n",
    "import numpy.linalg as la\n",
    "p = 1 # required norm\n",
    "t = [4,9,14]\n",
    "\n",
    "# inverse : 找最小的eigenvalue里面 对应的eigenvector\n",
    "norm = np.array(t).T\n",
    "norm1 = la.norm(norm, p)\n",
    "ans = norm/norm1\n",
    "print(ans)"
   ]
  },
  {
   "cell_type": "code",
   "execution_count": 1,
   "id": "b4fe53bc-7b82-4fac-ae12-6235cab3cd6e",
   "metadata": {},
   "outputs": [
    {
     "name": "stdout",
     "output_type": "stream",
     "text": [
      "[0.30769231 1.         0.61538462]\n"
     ]
    }
   ],
   "source": [
    "# inf norm\n",
    "import numpy as np\n",
    "import numpy.linalg as la\n",
    "t = [4,13,8]\n",
    "\n",
    "# inverse : 找最小的eigenvalue里面 对应的eigenvector\n",
    "norm = np.array(t).T\n",
    "norm1 = la.norm(norm, np.inf)\n",
    "ans = norm/norm1\n",
    "print(ans)"
   ]
  },
  {
   "cell_type": "markdown",
   "id": "511b4df6-947c-402c-921b-12c685ef87b5",
   "metadata": {},
   "source": [
    "### power"
   ]
  },
  {
   "cell_type": "code",
   "execution_count": 73,
   "id": "02dce09b-8fe1-462b-9c70-d1ea38a7fafe",
   "metadata": {},
   "outputs": [
    {
     "name": "stdout",
     "output_type": "stream",
     "text": [
      "[0.06451613 0.41935484 0.51612903]\n"
     ]
    }
   ],
   "source": [
    "import numpy as np\n",
    "import numpy.linalg as la\n",
    "p = 1 # required norm\n",
    "t = [2,13,16]\n",
    "\n",
    "# power : 找最大的eigenvalue里面 对应的eigenvector\n",
    "norm = np.array(t).T\n",
    "norm1 = la.norm(norm, p)\n",
    "ans = norm/norm1\n",
    "print(ans)"
   ]
  },
  {
   "cell_type": "markdown",
   "id": "88b0fea4-ff37-4199-b74a-4a6af9a27d55",
   "metadata": {},
   "source": [
    "## 9 Condition Number of a Diagonal Matrix"
   ]
  },
  {
   "cell_type": "markdown",
   "id": "8a3d73b4-abd2-477b-95b2-f53d59c14c78",
   "metadata": {},
   "source": [
    "### infinite norm"
   ]
  },
  {
   "cell_type": "code",
   "execution_count": 82,
   "id": "7235d964-fe22-47b7-b2b4-8a26dd35d20b",
   "metadata": {},
   "outputs": [
    {
     "data": {
      "text/plain": [
       "4.181818181818182"
      ]
     },
     "execution_count": 82,
     "metadata": {},
     "output_type": "execute_result"
    }
   ],
   "source": [
    "import numpy as np\n",
    "a = np.array([4.6,-4.0,1.1,-3.6])\n",
    "p = max(abs(a)) # \\\\A\\\\\n",
    "n = max(abs(1/a)) #\\\\ A\\\\^ -1\n",
    "c = p*n\n",
    "c"
   ]
  },
  {
   "cell_type": "markdown",
   "id": "cf8ad8a3-281a-4ebc-86bd-d08c07623073",
   "metadata": {},
   "source": [
    "### 2-norm"
   ]
  },
  {
   "cell_type": "code",
   "execution_count": 10,
   "id": "22796148-44e5-4de7-a945-9f652b051a37",
   "metadata": {},
   "outputs": [
    {
     "data": {
      "text/plain": [
       "2.9"
      ]
     },
     "execution_count": 10,
     "metadata": {},
     "output_type": "execute_result"
    }
   ],
   "source": [
    "import numpy as np\n",
    "import numpy.linalg as la\n",
    "A = np.zeros([5,5])\n",
    "A[0,0] = 2.9\n",
    "A[1,1] = 1\n",
    "A[2,2] = 2.1\n",
    "A[3,3] = -2.1\n",
    "A[4,4] = 2.9\n",
    "norm = la.norm(A,2)\n",
    "AA = la.inv(A)\n",
    "normA = la.norm(AA,2)\n",
    "c = norm*normA\n",
    "c"
   ]
  },
  {
   "cell_type": "markdown",
   "id": "0b6a51cb-1675-4ae0-b0d1-fe57af631552",
   "metadata": {},
   "source": [
    "## 10.Finding the Eigenvalues of Transformed Matrices"
   ]
  },
  {
   "cell_type": "code",
   "execution_count": 84,
   "id": "7927fcfb-00be-498d-849a-361095ffd2b0",
   "metadata": {},
   "outputs": [
    {
     "name": "stdout",
     "output_type": "stream",
     "text": [
      "0.2\n"
     ]
    }
   ],
   "source": [
    "\n",
    "'''\n",
    "find eigenvalue of ((c1*A-c2*I)^(-1))\n",
    "'''\n",
    "a1e = 8 #eigen1\n",
    "a2e = 3 #eigen2\n",
    "c1 = 2\n",
    "c2 = 1\n",
    "p = 2\n",
    "\n",
    "e1 = 1/(c1*a1e - c2)\n",
    "e2 = 1/(c1*a2e - c2)\n",
    "\n",
    "print(max(e1, e2))"
   ]
  },
  {
   "cell_type": "markdown",
   "id": "7155889b-016a-4f4a-8278-9f61f8744f6d",
   "metadata": {},
   "source": [
    "## 11. Estimating the Error of Shifted Inverse Iteration"
   ]
  },
  {
   "cell_type": "code",
   "execution_count": 7,
   "id": "acc99c53-c218-4042-be57-6a40a63c5067",
   "metadata": {},
   "outputs": [
    {
     "name": "stdout",
     "output_type": "stream",
     "text": [
      "error in (a) 0.12800000000000003 \n",
      "error in (b) 0.009259259259259257\n"
     ]
    }
   ],
   "source": [
    "'''\n",
    "s1: |smallest eigen|\n",
    "s2: |2nd smallest eigen|\n",
    "p: power of iteration\n",
    "s: shift\n",
    "e1: without shift\n",
    "e2: with shift\n",
    "'''\n",
    "import numpy as np\n",
    "import numpy.linalg as la\n",
    "s1 = 2\n",
    "s2 = -5\n",
    "u = np.array([-1,0,1])\n",
    "x0 = np.array([-1,-1,-1])\n",
    "p = 3\n",
    "s = 1\n",
    "\n",
    "ini = la.norm(x0-u,np.inf)\n",
    "\n",
    "e1 = ini*pow(abs(s1)/abs(s2),p) \n",
    "e2 = ini*pow(abs(s1 - s)/abs(s2 - s),p) \n",
    "print(\"error in (a)\", e1, \"\\nerror in (b)\", e2)"
   ]
  },
  {
   "cell_type": "markdown",
   "id": "b894e877-f9f4-411f-94ce-308e2026a7cb",
   "metadata": {
    "tags": []
   },
   "source": [
    "## 12  Similarity Transformation of a Matrix 5.1"
   ]
  },
  {
   "cell_type": "code",
   "execution_count": 54,
   "id": "ca624b33-cccd-48f4-ab76-30494f5f6bf8",
   "metadata": {},
   "outputs": [
    {
     "name": "stdout",
     "output_type": "stream",
     "text": [
      "[2. 1.] \n",
      " [[1.  0.5]\n",
      " [0.  0.5]]\n"
     ]
    }
   ],
   "source": [
    "import numpy as np\n",
    "import numpy.linalg as la\n",
    "import scipy.linalg as sc\n",
    "#S1: get value\n",
    "A = np.array([\n",
    "    [2,-1],\n",
    "    [0,1]\n",
    "])\n",
    "p = 1\n",
    "\n",
    "w,v = la.eig(A)\n",
    "#S2: to normalize\n",
    "v1 = v[:,0] #vector1\n",
    "v2 = v[:,1] #vecctor2\n",
    "n1 = la.norm(v1,p)\n",
    "n2 = la.norm(v2,p)\n",
    "v1 = v1/n1\n",
    "v2 = v2/n2\n",
    "vv = np.vstack((v1, v2)).T\n",
    "print( w,\"\\n\",vv)\n"
   ]
  },
  {
   "cell_type": "markdown",
   "id": "4f61ec7d-9e87-4ed0-920d-b4989bac0313",
   "metadata": {},
   "source": [
    "## 13 Power Iteration Convergence"
   ]
  },
  {
   "cell_type": "code",
   "execution_count": 48,
   "id": "0f83954d-4a1d-4d33-8f8e-cd7b0817640e",
   "metadata": {},
   "outputs": [
    {
     "name": "stdout",
     "output_type": "stream",
     "text": [
      "[ 5 22 39] -2\n"
     ]
    }
   ],
   "source": [
    "import numpy as np\n",
    "e1 = 6\n",
    "e2 = -4\n",
    "e3 = 2\n",
    "z1 = np.array([1,5,2])\n",
    "z2 = np.array([1,5,6])\n",
    "z3 = np.array([1,4,9])\n",
    "a = 0\n",
    "b = 2\n",
    "c = 3\n",
    "x0 = a*z1 + b*z2 + c*z3\n",
    "ex0 = a*e1 + b*e2 + c*e3\n",
    "print(x0,ex0)"
   ]
  },
  {
   "cell_type": "markdown",
   "id": "959f502d-2306-497b-9a14-4c07bd778303",
   "metadata": {},
   "source": [
    "## 14. Result of Normalized Power, Inverse, and Shifted Inverse Iteration"
   ]
  },
  {
   "cell_type": "code",
   "execution_count": 49,
   "id": "6ca04222-21ab-444a-a6e7-ed49005c02d7",
   "metadata": {},
   "outputs": [
    {
     "data": {
      "text/plain": [
       "array([0.31818182, 0.31818182, 0.36363636])"
      ]
     },
     "execution_count": 49,
     "metadata": {},
     "output_type": "execute_result"
    }
   ],
   "source": [
    "import numpy as np\n",
    "import numpy.linalg as la\n",
    "n = np.array([14,14,16])\n",
    "p = 1\n",
    "m = la.norm(n,p)\n",
    "result = n/m\n",
    "result"
   ]
  },
  {
   "cell_type": "markdown",
   "id": "3b46c57c-c8fe-4e3c-a978-8949c96f0602",
   "metadata": {},
   "source": [
    "## C1 Converting a CSR Matrix to a Dense Matrix"
   ]
  },
  {
   "cell_type": "code",
   "execution_count": null,
   "id": "96f240e7-d372-4436-9b3a-b5f07fc5d8e4",
   "metadata": {},
   "outputs": [],
   "source": [
    "import numpy as np\n",
    "rp = A_csr.indptr\n",
    "ci = A_csr.indices\n",
    "data = A_csr.data\n",
    "shape = A_csr.shape\n",
    "A = np.zeros(shape)\n",
    "#S1 get how many elements in each row\n",
    "rnum = np.zeros(len(rp) - 1)\n",
    "for i in range(len(rp) - 1):\n",
    "    rnum[i] = rp[i+1] - rp[i]\n",
    "\n",
    "#S2 use value\n",
    "acc = 0\n",
    "for j in range(len(rnum)): # row \n",
    "    remain = int(rnum[j]) #number of remain elements\n",
    "    acc = rp[j] # the number of used elements\n",
    "    for k in range(remain):\n",
    "        A[j][ci[k+acc]]= data[k+acc] # k + acc "
   ]
  },
  {
   "cell_type": "markdown",
   "id": "71904506-d60f-4966-8790-0014591a3a0d",
   "metadata": {},
   "source": [
    "## C2: Estimate Digits"
   ]
  },
  {
   "cell_type": "code",
   "execution_count": 2,
   "id": "0a0a1435-5a88-4af9-a8b5-2d09736ebbaf",
   "metadata": {},
   "outputs": [
    {
     "ename": "NameError",
     "evalue": "name 'A' is not defined",
     "output_type": "error",
     "traceback": [
      "\u001b[0;31m---------------------------------------------------------------------------\u001b[0m",
      "\u001b[0;31mNameError\u001b[0m                                 Traceback (most recent call last)",
      "\u001b[0;32m/tmp/ipykernel_97/1585114403.py\u001b[0m in \u001b[0;36m<module>\u001b[0;34m\u001b[0m\n\u001b[1;32m      3\u001b[0m \u001b[0;32mimport\u001b[0m \u001b[0mnumpy\u001b[0m\u001b[0;34m.\u001b[0m\u001b[0mlinalg\u001b[0m \u001b[0;32mas\u001b[0m \u001b[0mla\u001b[0m\u001b[0;34m\u001b[0m\u001b[0;34m\u001b[0m\u001b[0m\n\u001b[1;32m      4\u001b[0m \u001b[0;32mfrom\u001b[0m \u001b[0mdecimal\u001b[0m \u001b[0;32mimport\u001b[0m \u001b[0;34m*\u001b[0m\u001b[0;34m\u001b[0m\u001b[0;34m\u001b[0m\u001b[0m\n\u001b[0;32m----> 5\u001b[0;31m \u001b[0mx\u001b[0m \u001b[0;34m=\u001b[0m \u001b[0mla\u001b[0m\u001b[0;34m.\u001b[0m\u001b[0msolve\u001b[0m\u001b[0;34m(\u001b[0m\u001b[0mA\u001b[0m\u001b[0;34m,\u001b[0m\u001b[0mb\u001b[0m\u001b[0;34m)\u001b[0m \u001b[0;31m#x right\u001b[0m\u001b[0;34m\u001b[0m\u001b[0;34m\u001b[0m\u001b[0m\n\u001b[0m\u001b[1;32m      6\u001b[0m \u001b[0;34m\u001b[0m\u001b[0m\n\u001b[1;32m      7\u001b[0m \u001b[0mcond\u001b[0m \u001b[0;34m=\u001b[0m \u001b[0mla\u001b[0m\u001b[0;34m.\u001b[0m\u001b[0mcond\u001b[0m\u001b[0;34m(\u001b[0m\u001b[0mA\u001b[0m\u001b[0;34m)\u001b[0m\u001b[0;34m\u001b[0m\u001b[0;34m\u001b[0m\u001b[0m\n",
      "\u001b[0;31mNameError\u001b[0m: name 'A' is not defined"
     ]
    }
   ],
   "source": [
    "# 1.12 Estimating the Number of Correct Digits\n",
    "import numpy as np\n",
    "import numpy.linalg as la\n",
    "from decimal import *\n",
    "x = la.solve(A,b) #x right\n",
    "'''\n",
    "cond = la.cond(A)\n",
    "d = Decimal(cond)\n",
    "correct_digits = abs(d.as_tuple().exponent)\n",
    "print(correct_digits)\n",
    "print(d)\n",
    "'''"
   ]
  },
  {
   "cell_type": "markdown",
   "id": "540d33b5-53a6-4f53-883f-6cf734985301",
   "metadata": {},
   "source": [
    "## C3: The magic pot"
   ]
  },
  {
   "cell_type": "code",
   "execution_count": null,
   "id": "3198ffc1-f6f5-4905-ad0a-116171c45034",
   "metadata": {},
   "outputs": [],
   "source": [
    "# 1 10 The magic pot experiment\n",
    "import numpy as np\n",
    "import numpy.linalg as la\n",
    "\n",
    "temp = A@comp1\n",
    "k = comp1[missing_col_index] # get k\n",
    "\n",
    "A_complete = A\n",
    "#get a, b, c, d, f\n",
    "for i in range(6):\n",
    "    if i != missing_row_index: #exclude other\n",
    "        A_complete[i][missing_col_index] = (comp2[i] - temp[i])/k \n",
    "\n",
    "for i in range(6):\n",
    "    t = 1 - sum(A_complete[0:,i])\n",
    "    A_complete[missing_row_index][i] = t\n",
    "    \n",
    "\n",
    "\n",
    "def final_comp(A):\n",
    "    #make initial arra: sum = 1\n",
    "    x = A.shape[0]\n",
    "    v = np.zeros([x])\n",
    "    for i in range(x):\n",
    "        v[i] = 1/x\n",
    "    #keep produce    \n",
    "    con = A@v\n",
    "    for k in range(100000):\n",
    "        con = A@con\n",
    "        \n",
    "    return con"
   ]
  },
  {
   "cell_type": "markdown",
   "id": "e2858586-18d3-419b-9220-fae9ae1247c7",
   "metadata": {},
   "source": [
    "## C4: Train Stations"
   ]
  },
  {
   "cell_type": "code",
   "execution_count": 1,
   "id": "ce4908d4-3bf1-4892-80e3-481846de6642",
   "metadata": {},
   "outputs": [],
   "source": [
    "# 2 10 Traveling by Train\n",
    "import numpy as np \n",
    "#S1 make matrix by problem\n",
    "mat = np.array([\n",
    "    [0, 0.25, 0.25, 0.25, 0.25],\n",
    "    [0.5, 0, 0, 0.5, 0],\n",
    "    [0.5, 0.5, 0, 0, 0],\n",
    "    [0, 0, 0.5, 0, 0.5],\n",
    "    [0, 1, 0, 0, 0]\n",
    "    ])\n",
    "mat = mat.T\n",
    "#S2 make start position\n",
    "start = np.zeros(5)\n",
    "start[0] = 1\n",
    "#S3 produce\n",
    "prob = mat@start\n",
    "for i in range(100000):\n",
    "    prob = mat@prob"
   ]
  },
  {
   "cell_type": "markdown",
   "id": "401e5366-075c-4033-ac7b-9eccdceb1ed7",
   "metadata": {},
   "source": [
    "## C5: Investigating Conditioning"
   ]
  },
  {
   "cell_type": "code",
   "execution_count": null,
   "id": "38a87801-6281-4048-9fed-5473715b2e1a",
   "metadata": {},
   "outputs": [],
   "source": [
    "# 2 11 Conditioning and relative error\n",
    "import numpy as np\n",
    "import numpy.linalg as la\n",
    "#2-norm\n",
    "err_xhat = xtrue - xhat\n",
    "rel_err_xhat = la.norm(err_xhat, 2)/la.norm(xtrue, 2)\n",
    "\n",
    "#delta y\n",
    "y = A@xtrue\n",
    "dy = A@err_xhat \n",
    "rel_err_Axhat = la.norm(dy, 2)/la.norm(y, 2)\n",
    "\n",
    "cond_A = la.cond(A)\n",
    "bound_rel_err_Axhat\t= rel_err_xhat*cond_A"
   ]
  },
  {
   "cell_type": "code",
   "execution_count": null,
   "id": "6f03e960-ed5c-42be-ad0e-028ea6dccb95",
   "metadata": {},
   "outputs": [],
   "source": []
  },
  {
   "cell_type": "code",
   "execution_count": null,
   "id": "06825ec2-5db3-4b1e-82b8-1dc5d66cea32",
   "metadata": {},
   "outputs": [],
   "source": []
  },
  {
   "cell_type": "code",
   "execution_count": null,
   "id": "3e561936-5745-44b6-b47c-33b8fe73f8af",
   "metadata": {},
   "outputs": [],
   "source": []
  },
  {
   "cell_type": "code",
   "execution_count": null,
   "id": "c678fe31-01ae-47d4-ad4d-1e12ec995bec",
   "metadata": {},
   "outputs": [],
   "source": []
  },
  {
   "cell_type": "code",
   "execution_count": null,
   "id": "994a5f49-db43-40d5-851e-f7806d56624c",
   "metadata": {},
   "outputs": [],
   "source": []
  },
  {
   "cell_type": "code",
   "execution_count": null,
   "id": "8ffa166d-5ea1-4c7f-a66a-59ea1a7dae35",
   "metadata": {},
   "outputs": [],
   "source": []
  }
 ],
 "metadata": {
  "kernelspec": {
   "display_name": "Python 3 (ipykernel)",
   "language": "python",
   "name": "python3"
  },
  "language_info": {
   "codemirror_mode": {
    "name": "ipython",
    "version": 3
   },
   "file_extension": ".py",
   "mimetype": "text/x-python",
   "name": "python",
   "nbconvert_exporter": "python",
   "pygments_lexer": "ipython3",
   "version": "3.9.6"
  }
 },
 "nbformat": 4,
 "nbformat_minor": 5
}
