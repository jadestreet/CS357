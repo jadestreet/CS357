{
 "cells": [
  {
   "cell_type": "markdown",
   "id": "9f1c4d74-c8c3-4181-bf3a-bb6e5c528dd4",
   "metadata": {},
   "source": [
    "## 1. Accuracy of the output"
   ]
  },
  {
   "cell_type": "code",
   "execution_count": 1,
   "id": "e604f984-61e6-4703-a460-1c6814016c63",
   "metadata": {},
   "outputs": [
    {
     "data": {
      "text/plain": [
       "10"
      ]
     },
     "execution_count": 1,
     "metadata": {},
     "output_type": "execute_result"
    }
   ],
   "source": [
    "con = 6\n",
    "double = 16\n",
    "\n",
    "result = double - con\n",
    "result"
   ]
  },
  {
   "cell_type": "markdown",
   "id": "26b5f13c-6636-4cf9-9158-746d960bc2c4",
   "metadata": {},
   "source": [
    "## 2. Condition Number"
   ]
  },
  {
   "cell_type": "code",
   "execution_count": 8,
   "id": "48e2f255-22ff-4439-9ec1-cf0cacad2c2f",
   "metadata": {},
   "outputs": [
    {
     "name": "stdout",
     "output_type": "stream",
     "text": [
      "10.0 1000.0\n"
     ]
    }
   ],
   "source": [
    "A = 100\n",
    "rele = -9\n",
    "iter = 5\n",
    "\n",
    "x = pow(A,iter) * pow(10, rele)\n",
    "y = A*x \n",
    "print(x,y)"
   ]
  },
  {
   "cell_type": "code",
   "execution_count": 4,
   "id": "5b2814e8-32b9-4bb6-b4f2-556d877f76c4",
   "metadata": {},
   "outputs": [
    {
     "data": {
      "text/plain": [
       "9.999999999999999e-09"
      ]
     },
     "execution_count": 4,
     "metadata": {},
     "output_type": "execute_result"
    }
   ],
   "source": [
    "'''\n",
    "rel = pow(10,-11)\n",
    "con = 100\n",
    "y = 10\n",
    "abso = rel*con*y\n",
    "abso\n",
    "'''"
   ]
  },
  {
   "cell_type": "code",
   "execution_count": null,
   "id": "4e66501f-8bc9-45b0-a76e-408013b6840f",
   "metadata": {},
   "outputs": [],
   "source": []
  }
 ],
 "metadata": {
  "kernelspec": {
   "display_name": "Python 3 (ipykernel)",
   "language": "python",
   "name": "python3"
  },
  "language_info": {
   "codemirror_mode": {
    "name": "ipython",
    "version": 3
   },
   "file_extension": ".py",
   "mimetype": "text/x-python",
   "name": "python",
   "nbconvert_exporter": "python",
   "pygments_lexer": "ipython3",
   "version": "3.9.6"
  }
 },
 "nbformat": 4,
 "nbformat_minor": 5
}
