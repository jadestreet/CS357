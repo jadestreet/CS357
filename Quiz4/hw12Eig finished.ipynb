{
 "cells": [
  {
   "cell_type": "markdown",
   "metadata": {},
   "source": [
    "## 1.Finding the Eigenvalues of a Matrix"
   ]
  },
  {
   "cell_type": "code",
   "execution_count": null,
   "metadata": {},
   "outputs": [],
   "source": [
    "import numpy as np\n",
    "from numpy.linalg import eig\n",
    "a = np.array([[9.3, 0.0], \n",
    "              [6.5, 8.8]])\n",
    "w,v=eig(a)\n",
    "print('E-value:', w)\n",
    "print('E-vector:\\n', v)"
   ]
  },
  {
   "cell_type": "markdown",
   "metadata": {},
   "source": [
    "## 2.get the diagonalization of a matrix"
   ]
  },
  {
   "cell_type": "code",
   "execution_count": null,
   "metadata": {},
   "outputs": [],
   "source": [
    "# import sympy \n",
    "from sympy import * \n",
    "\n",
    "M = Matrix([[3, -2,  4, -2],\n",
    "            [5,  3, -3, -2],\n",
    "            [5, -2,  2, -2],\n",
    "            [5, -2, -3,  3]])\n",
    "print(M.is_diagonalizable())\n",
    "if M.is_diagonalizable():\n",
    "    print(\"Matrix : {} \".format(M))\n",
    "    # Use sympy.diagonalize() method \n",
    "    P, D = M.diagonalize()  \n",
    "    print(\"Diagonal of a matrix : {}\".format(D)) "
   ]
  },
  {
   "cell_type": "markdown",
   "metadata": {},
   "source": [
    "## 3.tell singular"
   ]
  },
  {
   "cell_type": "code",
   "execution_count": null,
   "metadata": {},
   "outputs": [
    {
     "name": "stdout",
     "output_type": "stream",
     "text": [
      "Non Singular matrix\n"
     ]
    }
   ],
   "source": [
    "import numpy as np\n",
    "arr = np.array([[1,- 2, 2],\n",
    "                [9, 9, 8],\n",
    "                [7, 8, 0]])\n",
    "if (np.linalg.det(arr)):\n",
    "    print(\"Non Singular matrix\")\n",
    "else:\n",
    "    print(\"Singular Matrix\")"
   ]
  },
  {
   "cell_type": "markdown",
   "metadata": {},
   "source": [
    "## 5.Estimating the Error in Power Iteration"
   ]
  },
  {
   "cell_type": "code",
   "execution_count": null,
   "metadata": {},
   "outputs": [
    {
     "data": {
      "text/plain": [
       "1.1358984374999999"
      ]
     },
     "execution_count": 1,
     "metadata": {},
     "output_type": "execute_result"
    }
   ],
   "source": [
    "'''\n",
    "c:e0\n",
    "co1:lambda 1 absolute value, largest 1\n",
    "co2:lambda 2 absolute value, largest 2\n",
    "t:times mul\n",
    "'''\n",
    "c = 3.59\n",
    "co1 = 4\n",
    "co2 = 3\n",
    "t = 4\n",
    "result = c*pow(co2/co1,t)\n",
    "result"
   ]
  },
  {
   "cell_type": "markdown",
   "metadata": {},
   "source": [
    "## 6.Determine Fastest Convergence"
   ]
  },
  {
   "cell_type": "code",
   "execution_count": null,
   "metadata": {},
   "outputs": [
    {
     "name": "stdout",
     "output_type": "stream",
     "text": [
      "[ 7.17000205  3.72108863 23.4256      7.17000205  3.72108863]\n",
      "[1.39469974e-01 2.68738560e-01 3.90625000e+01 1.67961600e+02\n",
      " 5.95374181e-03] 3\n"
     ]
    }
   ],
   "source": [
    "import numpy as np\n",
    "turn = 4\n",
    "co1 = [18,25,11,18,25]\n",
    "co2 = [11,18,5,11,18]\n",
    "c1 = np.zeros(5, float)\n",
    "for i in range(5):\n",
    "    c1[i] = pow(co1[i]/co2[i], turn)\n",
    "print(c1)\n",
    "\n",
    "co3 = [11,18,5,18,5]\n",
    "co4 = [18,25,2,5,18]\n",
    "c2 = np.zeros(5)\n",
    "for i in range(5):\n",
    "    c2[i] = pow(co3[i]/co4[i], turn)\n",
    "print(c2,c2.argmax())"
   ]
  },
  {
   "cell_type": "markdown",
   "metadata": {},
   "source": [
    "## 7.Eigenvalue of Triangular Matrix"
   ]
  },
  {
   "cell_type": "code",
   "execution_count": null,
   "metadata": {},
   "outputs": [
    {
     "data": {
      "text/latex": [
       "$\\displaystyle 8.7$"
      ],
      "text/plain": [
       "8.70000000000000"
      ]
     },
     "execution_count": 2,
     "metadata": {},
     "output_type": "execute_result"
    }
   ],
   "source": [
    "import numpy as np\n",
    "import sympy as sp\n",
    "from sympy import*\n",
    "import numpy.linalg as la\n",
    "\n",
    "a = np.array([[8.7, 9.3], \n",
    "              [0, 1.2]])\n",
    "v = np.array([1, 0]).T\n",
    "\n",
    "\n",
    "lamb = a@v\n",
    "x = sp.var('x')\n",
    "e1 = lamb[0] - v[0]*x\n",
    "e2 = lamb[1] - v[1]*x\n",
    "solve = solve([e1, e2], [x])\n",
    "c1 = solve.get(x)\n",
    "c1"
   ]
  },
  {
   "cell_type": "markdown",
   "metadata": {},
   "source": [
    "## 8. Transforming Eigenvalues "
   ]
  },
  {
   "cell_type": "code",
   "execution_count": null,
   "metadata": {},
   "outputs": [
    {
     "data": {
      "text/plain": [
       "0.7142857142857143"
      ]
     },
     "execution_count": 3,
     "metadata": {},
     "output_type": "execute_result"
    }
   ],
   "source": [
    "'''\n",
    "(I - aA) = b\n",
    "'''\n",
    "a = 5\n",
    "b = -6\n",
    "\n",
    "Aev = abs((-b+1)/-a)#eigenvalue of A\n",
    "ev = 1/Aev\n",
    "\n",
    "ev"
   ]
  },
  {
   "cell_type": "markdown",
   "metadata": {},
   "source": [
    "## 9.Finding the Eigenvalues of Transformed Matrices"
   ]
  },
  {
   "cell_type": "code",
   "execution_count": null,
   "metadata": {},
   "outputs": [
    {
     "name": "stdout",
     "output_type": "stream",
     "text": [
      "0.0625 1.0\n"
     ]
    }
   ],
   "source": [
    "'''\n",
    "find eigenvalue of ((A-cI)^(-1))^(p)\n",
    "'''\n",
    "a1e = -2 #eigen1\n",
    "a2e = 1 #eigen2\n",
    "c = 2\n",
    "p = 2\n",
    "\n",
    "e1 = 1/(a1e - c)\n",
    "e2 = 1/(a2e - c)\n",
    "\n",
    "e11 = pow(e1,p)\n",
    "e22 = pow(e2,p)\n",
    "\n",
    "print(e11, e22)"
   ]
  },
  {
   "cell_type": "markdown",
   "metadata": {},
   "source": [
    "## 10.Complexity of Eigenvalue Approximation"
   ]
  },
  {
   "cell_type": "code",
   "execution_count": null,
   "metadata": {},
   "outputs": [
    {
     "data": {
      "text/plain": [
       "18.0"
      ]
     },
     "execution_count": 51,
     "metadata": {},
     "output_type": "execute_result"
    }
   ],
   "source": [
    "ss = 5000#sample_size\n",
    "k1 = 100\n",
    "t = 1 #sample time\n",
    "\n",
    "ts = 15000 #target_size\n",
    "k2 = 200\n",
    "time = t*k2*pow(ts,2)/(k1*pow(ss,2))\n",
    "time"
   ]
  },
  {
   "cell_type": "markdown",
   "metadata": {},
   "source": [
    "## 11. Iteration-Concepts"
   ]
  },
  {
   "cell_type": "code",
   "execution_count": null,
   "metadata": {},
   "outputs": [
    {
     "data": {
      "text/plain": [
       "93.03288759581068"
      ]
     },
     "execution_count": 58,
     "metadata": {},
     "output_type": "execute_result"
    }
   ],
   "source": [
    "'''\n",
    "'''\n",
    "t = 31\n",
    "it1 = 302\n",
    "it2 = 906\n",
    "#end polish\n",
    "\n",
    "n2 = t/it1\n",
    "t2 = pow(n2, 1.5) + n2*it2\n",
    "t2"
   ]
  },
  {
   "cell_type": "markdown",
   "metadata": {},
   "source": [
    "## 12: –HW12.10. Comparing Convergence with a Shift"
   ]
  },
  {
   "cell_type": "code",
   "execution_count": null,
   "metadata": {},
   "outputs": [
    {
     "name": "stdout",
     "output_type": "stream",
     "text": [
      "error in (a) 0.001083845619739538 \n",
      "error in (b) 6.103515625e-05\n"
     ]
    }
   ],
   "source": [
    "'''\n",
    "s1: |smallest eigen|\n",
    "s2: |2nd smallest eigen|\n",
    "p: power of iteration\n",
    "s: shift\n",
    "e1: without shift\n",
    "e2: with shift\n",
    "'''\n",
    "import numpy as np\n",
    "import numpy.linalg as la\n",
    "s1 = -2\n",
    "s2 = -9\n",
    "u = np.array([-1,0,-1])\n",
    "x0 = np.array([1,1,-1])\n",
    "p = 5\n",
    "s = -1\n",
    "\n",
    "ini = la.norm(x0-u,np.inf)\n",
    "\n",
    "e1 = ini*pow(abs(s1)/abs(s2),p) \n",
    "e2 = ini*pow(abs(s1 - s)/abs(s2 - s),p) \n",
    "print(\"error in (a)\", e1, \"\\nerror in (b)\", e2)"
   ]
  },
  {
   "cell_type": "markdown",
   "metadata": {},
   "source": [
    "## 13.Shifted Inverse Iteration"
   ]
  },
  {
   "cell_type": "code",
   "execution_count": null,
   "metadata": {},
   "outputs": [],
   "source": [
    "import numpy as np\n",
    "from numpy.linalg import eig\n",
    "'''\n",
    "A = np.array([[-8, 6,  -16, 6, 6],\n",
    "            [0,  11, 6, -1, 11],\n",
    "            [0, 0, -5, -4, 8],\n",
    "            [0, 0, 0, -17, -2],\n",
    "            [0, 0, 0, 0, 14],])\n",
    "n = 5\n",
    "c = 15\n",
    "\n",
    "I = np.identity(n)\n",
    "B = A - c*I\n",
    "eigen = eig(B)\n",
    "evA = 0\n",
    "# inverse -> smallest\n",
    "for i in range(n):\n",
    "    if abs(eigen[0][i]) == np.min(abs(eigen[0])):\n",
    "        evA = eigen[0][i] + c\n",
    "evA\n",
    "'''\n",
    "'''\n",
    "S1: find eigenvalues(in the diagonal)\n",
    "S2: B = A +cI get new eigenvalues\n",
    "S3: find smallest\n",
    "'''\n",
    "A = np.array([-2,-5,-8,11,17])\n",
    "c = -18\n",
    "\n",
    "B = A + c\n",
    "ans = A[np.argmin(abs(B))]\n",
    "print(ans)\n"
   ]
  },
  {
   "cell_type": "markdown",
   "metadata": {},
   "source": [
    "## 14. Choose Fastest Convergence"
   ]
  },
  {
   "cell_type": "code",
   "execution_count": null,
   "metadata": {},
   "outputs": [],
   "source": [
    "import numpy as np\n",
    "A = np.array([-2,-5,-8,11,17])\n",
    "c1 = \n",
    "c2 = \n",
    "c3 = "
   ]
  },
  {
   "cell_type": "markdown",
   "metadata": {},
   "source": [
    "## 14.Shifted and Inverse Iteration Convergence"
   ]
  },
  {
   "cell_type": "code",
   "execution_count": 43,
   "metadata": {},
   "outputs": [
    {
     "name": "stdout",
     "output_type": "stream",
     "text": [
      "Only inverse 18\n",
      "Shift inverse 5\n"
     ]
    }
   ],
   "source": [
    "# Only inverse: smallest eigenvalue\n",
    "import numpy as np\n",
    "from numpy.linalg import eig\n",
    "\n",
    "A = np.array([-5,4,-3,-7,2])\n",
    "p = -3\n",
    "c = -4.6\n",
    "#################Inverse\n",
    "AA = []\n",
    "\n",
    "m1 = A[np.argmin(abs(A))] #small eigenvalue\n",
    "for i in range(len(A)):\n",
    "    if i != np.argmin(abs(A)):\n",
    "        AA.append(A[i])\n",
    "AA = np.array(AA)\n",
    "m2 = AA[np.argmin(abs(AA))] #2small eigenvalue\n",
    "\n",
    "t = abs(m1)/abs(m2)  #那个比例\n",
    "cc = 1 #初始值\n",
    "iter1 = 0\n",
    "while cc > pow(10, p):\n",
    "    cc = cc*t\n",
    "    iter1 = iter1 + 1\n",
    "print(\"Only inverse\", iter1)\n",
    "################ SInverse\n",
    "B = A - c\n",
    "BB = []\n",
    "\n",
    "m1 = A[np.argmin(abs(B))] #small eigenvalue\n",
    "\n",
    "for i in range(len(A)):\n",
    "    if i != np.argmin(abs(B)):\n",
    "        BB.append(B[i])\n",
    "    else:\n",
    "        BB.append(100)\n",
    "\n",
    "BB = np.array(BB)\n",
    "#print(\"BB is\", BB)\n",
    "\n",
    "m2 = A[np.argmin(abs(BB))] #2small eigenvalue\n",
    "\n",
    "#print(m1,m2)\n",
    "\n",
    "t = abs(m1 - c)/abs(m2 - c)  #那个比例\n",
    "cc = 1 #初始值\n",
    "iter2 = 0\n",
    "while cc > pow(10, p):\n",
    "    cc = cc*t\n",
    "    #print(cc)\n",
    "    iter2 = iter2 + 1\n",
    "\n",
    "print(\"Shift inverse\", iter2)"
   ]
  },
  {
   "cell_type": "markdown",
   "metadata": {},
   "source": [
    "## 15.Iteration-Concepts"
   ]
  },
  {
   "cell_type": "code",
   "execution_count": 47,
   "metadata": {},
   "outputs": [
    {
     "name": "stdout",
     "output_type": "stream",
     "text": [
      "error after  3  iter is  0.0648\n",
      "time is  68.0\n"
     ]
    }
   ],
   "source": [
    "## get error after iteration\n",
    "l1 = 15\n",
    "l2 = 25\n",
    "t = 3\n",
    "x0 = 0.3\n",
    "for i in range(t):\n",
    "    x0 = l1/l2*x0\n",
    "print(\"error after \", t, \" iter is \", x0)\n",
    "##\n",
    "st = 34\n",
    "ss = 319\n",
    "ts = 638\n",
    "tt = ts/ss*st\n",
    "print(\"time is \", tt)"
   ]
  },
  {
   "cell_type": "markdown",
   "metadata": {},
   "source": [
    "## C1 Eigen Iteration Schemes"
   ]
  },
  {
   "cell_type": "code",
   "execution_count": 49,
   "metadata": {},
   "outputs": [
    {
     "ename": "NameError",
     "evalue": "name 'n' is not defined",
     "output_type": "error",
     "traceback": [
      "\u001b[0;31m---------------------------------------------------------------------------\u001b[0m",
      "\u001b[0;31mNameError\u001b[0m                                 Traceback (most recent call last)",
      "\u001b[0;32m/tmp/ipykernel_158/989249730.py\u001b[0m in \u001b[0;36m<module>\u001b[0;34m\u001b[0m\n\u001b[1;32m     10\u001b[0m \u001b[0mshifted_eigval\u001b[0m \u001b[0;34m=\u001b[0m \u001b[0;34m[\u001b[0m\u001b[0;34m]\u001b[0m\u001b[0;34m\u001b[0m\u001b[0;34m\u001b[0m\u001b[0m\n\u001b[1;32m     11\u001b[0m \u001b[0mshifted_eigvec\u001b[0m \u001b[0;34m=\u001b[0m \u001b[0;34m[\u001b[0m\u001b[0;34m]\u001b[0m\u001b[0;34m\u001b[0m\u001b[0;34m\u001b[0m\u001b[0m\n\u001b[0;32m---> 12\u001b[0;31m \u001b[0mcnt\u001b[0m \u001b[0;34m=\u001b[0m \u001b[0mnp\u001b[0m\u001b[0;34m.\u001b[0m\u001b[0mzeros\u001b[0m\u001b[0;34m(\u001b[0m\u001b[0mn\u001b[0m\u001b[0;34m)\u001b[0m\u001b[0;34m\u001b[0m\u001b[0;34m\u001b[0m\u001b[0m\n\u001b[0m\u001b[1;32m     13\u001b[0m \u001b[0mratios\u001b[0m \u001b[0;34m=\u001b[0m \u001b[0;34m[\u001b[0m\u001b[0;34m]\u001b[0m\u001b[0;34m\u001b[0m\u001b[0;34m\u001b[0m\u001b[0m\n\u001b[1;32m     14\u001b[0m \u001b[0;34m\u001b[0m\u001b[0m\n",
      "\u001b[0;31mNameError\u001b[0m: name 'n' is not defined"
     ]
    }
   ],
   "source": [
    "import numpy as np\n",
    "import numpy.linalg as la\n",
    "import scipy.linalg as sla\n",
    "import matplotlib.pyplot as plt\n",
    "\n",
    "eigenval1 = []\n",
    "eigenval2 = []\n",
    "eigenvec1 = []\n",
    "eigenvec2 = []\n",
    "shifted_eigval = []\n",
    "shifted_eigvec = []\n",
    "cnt = np.zeros(n)\n",
    "ratios = []\n",
    "\n",
    "\n",
    "#normalized power iter\n",
    "def normalized_power_iter(A, x_0, p):\n",
    "    x_0 = x_0/la.norm(x_0, p)\n",
    "    x_k = x_0\n",
    "    prev_x = x_k - 1\n",
    "    count_num_iter = 0\n",
    "    max_iterations = 10000\n",
    "    eignval = 0\n",
    "    #for k in range(max_iterations):\n",
    "    while(la.norm(x_k-prev_x,p) >= 10**-12):\n",
    "        prev_x = x_k\n",
    "        y_k = A@x_k\n",
    "        x_k = y_k/la.norm(y_k, p)\n",
    "        eignval = (x_k.T@A@x_k)/(x_k.T@x_k)\n",
    "        count_num_iter += 1\n",
    "    return x_k, eignval, count_num_iter\n",
    "\n",
    "for i in range(n):\n",
    "    x, eignval, cnt_ = normalized_power_iter(As[i], x_0, 2)\n",
    "    eigenval1.append(eignval)\n",
    "    eigenvec1.append(x)\n",
    "    cnt[i] = cnt_\n",
    "eigenval1 = np.array(eigenval1)\n",
    "eigenvec1 = np.array(eigenvec1)\n",
    "\n",
    "#normalized inverse power iter\n",
    "def normalized_inverse_power_iter(A, x_0, p):\n",
    "    x_0 = x_0/la.norm(x_0, p)\n",
    "    x_k = x_0\n",
    "    prev_x = x_k - 1\n",
    "    max_iterations = 10000\n",
    "    eignval = 0\n",
    "    \n",
    "    P, L, U = sla.lu(A)\n",
    "    #for k in range(max_iterations):\n",
    "    while(la.norm(x_k-prev_x,p) >= 10**-12):\n",
    "        prev_x = x_k\n",
    "        y_k = sla.solve_triangular(L, np.dot(P.T, x_k), lower=True)\n",
    "        x_k = sla.solve_triangular(U, y_k)\n",
    "        x_k = x_k/la.norm(x_k,p)\n",
    "        eignval = (x_k.T@A@x_k)/(x_k.T@x_k)\n",
    "    return x_k, eignval\n",
    "\n",
    "for i in range(n):\n",
    "    x, eignval = normalized_inverse_power_iter(As[i], x_0, 2)\n",
    "    eigenval2.append(eignval)\n",
    "    eigenvec2.append(x)\n",
    "eigenval2 = np.array(eigenval2)\n",
    "eigenvec2 = np.array(eigenvec2)\n",
    "\n",
    "\n",
    "#normalized shifted power iter\n",
    "def normalized_shifted_power_iter(A, x_0, p):\n",
    "    sigma = 1\n",
    "    x_0 = x_0/la.norm(x_0, p)\n",
    "    x_k = x_0\n",
    "    B = A - sigma*np.eye(len(A))\n",
    "    max_iterations = 500\n",
    "    eignval = 0\n",
    "    \n",
    "    P, L, U = sla.lu(B)\n",
    "    for k in range(max_iterations):\n",
    "        prev_x = x_k\n",
    "        y_k = sla.solve_triangular(L, np.dot(P.T, x_k), lower=True)\n",
    "        x_k = sla.solve_triangular(U, y_k)\n",
    "        x_k = x_k/la.norm(x_k,p)\n",
    "        eignval = (x_k.T@A@x_k)/(x_k.T@x_k)\n",
    "    return x_k, eignval\n",
    "\n",
    "for i in range(n):\n",
    "    x, eignval = normalized_shifted_power_iter(As[i], x_0, 2)\n",
    "    shifted_eigval.append(eignval)\n",
    "    shifted_eigvec.append(x)\n",
    "shifted_eigval = np.array(shifted_eigval)\n",
    "shifted_eigvec = np.array(shifted_eigvec)\n",
    "\n",
    "for i in range(n):\n",
    "    ratios.append(np.abs(eigenval2[i])/np.abs(eigenval1[i]))\n",
    "ratios = np.array(ratios)\n",
    "\n",
    "\n",
    "plot = plt.gca()\n",
    "plt.plot(ratios,cnt)\n",
    "plt.xlabel(\"x\")\n",
    "plt.ylabel(\"y\")\n",
    "plt.title(\"z\")"
   ]
  },
  {
   "cell_type": "markdown",
   "metadata": {},
   "source": [
    "## C2 Inverse Iteration"
   ]
  },
  {
   "cell_type": "code",
   "execution_count": null,
   "metadata": {},
   "outputs": [],
   "source": [
    "import numpy as np\n",
    "import scipy.linalg as sla\n",
    "import numpy.linalg as la\n",
    "n = np.shape(A)[0]\n",
    "x0 = np.random.random(n)\n",
    "nrm = la.norm(x0)\n",
    "x = x0/nrm\n",
    "P, L, Um = sla.lu(A)\n",
    "for k in range(n):\n",
    "    y = sla.solve_triangular(L, np.dot(P.T, x), lower=True)\n",
    "    x = sla.solve_triangular(Um, y)\n",
    "    x = x/la.norm(x)\n",
    "eigval = x.T@A@x/(x.T@x)\n",
    "eigvec = x"
   ]
  }
 ],
 "metadata": {
  "kernelspec": {
   "display_name": "Python 3 (ipykernel)",
   "language": "python",
   "name": "python3"
  },
  "language_info": {
   "codemirror_mode": {
    "name": "ipython",
    "version": 3
   },
   "file_extension": ".py",
   "mimetype": "text/x-python",
   "name": "python",
   "nbconvert_exporter": "python",
   "pygments_lexer": "ipython3",
   "version": "3.9.6"
  }
 },
 "nbformat": 4,
 "nbformat_minor": 4
}
