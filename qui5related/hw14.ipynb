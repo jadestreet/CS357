{
 "cells": [
  {
   "cell_type": "markdown",
   "metadata": {},
   "source": [
    "## 1. Finite Difference: Error Calculation"
   ]
  },
  {
   "cell_type": "code",
   "execution_count": 2,
   "metadata": {},
   "outputs": [
    {
     "data": {
      "text/plain": [
       "0.04108834593698034"
      ]
     },
     "execution_count": 2,
     "metadata": {},
     "output_type": "execute_result"
    }
   ],
   "source": [
    "import numpy as np\n",
    "#f(x) = c1*e^(c2*x) \n",
    "c1 = 6\n",
    "c2 = 1\n",
    "def f(x):\n",
    "    return c1*np.exp(c2*x)\n",
    "def g(x):\n",
    "    return c1*c2*np.exp(c2*x)\n",
    "# a is x, h is step size\n",
    "a = 0.9\n",
    "h = 0.08\n",
    "appro = (f(a+h) - f(a))/h\n",
    "act = g(a)\n",
    "rel = abs(appro-act)/act\n",
    "rel"
   ]
  },
  {
   "cell_type": "markdown",
   "metadata": {},
   "source": [
    "## 2. Finite Difference Gradient"
   ]
  },
  {
   "cell_type": "code",
   "execution_count": 21,
   "metadata": {},
   "outputs": [
    {
     "name": "stdout",
     "output_type": "stream",
     "text": [
      "1.0000000000000009 3.0000000000000004 6.000000000000003\n",
      "back 1.0000000000000009 2.9999999999999982 5.699999999999998\n"
     ]
    }
   ],
   "source": [
    "#central\n",
    "def f(x,y,z):\n",
    "    return x*y*z**2 + 2*y*z**2\n",
    "a = [1,1,1]\n",
    "h = 0.1\n",
    "appro = []\n",
    "a1 = (f(a[0]+h,a[1],a[2]) - f(a[0]-h,a[1],a[2]))/(2*h)\n",
    "a2 = (f(a[0],a[1]+h,a[2]) - f(a[0],a[1]-h,a[2]))/(2*h)\n",
    "a3 = (f(a[0],a[1],a[2]+h) - f(a[0],a[1],a[2]-h))/(2*h)\n",
    "print(\"central\", a1,a2,a3)\n",
    "\n",
    "\n",
    "a1 = (f(a[0],a[1],a[2]) - f(a[0]-h,a[1],a[2]))/(h)\n",
    "a2 = (f(a[0],a[1],a[2]) - f(a[0],a[1]-h,a[2]))/(h)\n",
    "a3 = (f(a[0],a[1],a[2]) - f(a[0],a[1],a[2]-h))/(h)\n",
    "print(\"back\", a1,a2,a3)"
   ]
  },
  {
   "cell_type": "markdown",
   "metadata": {},
   "source": [
    "## 3. Finite Difference: Calculation R -> R Best error bound"
   ]
  },
  {
   "cell_type": "code",
   "execution_count": 23,
   "metadata": {},
   "outputs": [
    {
     "data": {
      "text/plain": [
       "-5.0683138513520545"
      ]
     },
     "execution_count": 23,
     "metadata": {},
     "output_type": "execute_result"
    }
   ],
   "source": [
    "def f(x):\n",
    "    return -1*np.log(x)\n",
    "a = 0.2\n",
    "h = 0.04\n",
    "appro = (f(a+h) - f(a-h))/(2*h)\n",
    "appro"
   ]
  }
 ],
 "metadata": {
  "kernelspec": {
   "display_name": "Python 3 (ipykernel)",
   "language": "python",
   "name": "python3"
  },
  "language_info": {
   "codemirror_mode": {
    "name": "ipython",
    "version": 3
   },
   "file_extension": ".py",
   "mimetype": "text/x-python",
   "name": "python",
   "nbconvert_exporter": "python",
   "pygments_lexer": "ipython3",
   "version": "3.9.6"
  }
 },
 "nbformat": 4,
 "nbformat_minor": 4
}
