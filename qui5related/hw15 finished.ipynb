{
 "cells": [
  {
   "cell_type": "markdown",
   "id": "55a5d880-db86-423b-975d-7f5cfa220515",
   "metadata": {},
   "source": [
    "## 1. lec15.6  NewtonND-triangular/Newton Solve\n",
    "Calculate ND newton method"
   ]
  },
  {
   "cell_type": "code",
   "execution_count": 27,
   "id": "965a1195-6455-4b7f-be90-732ff106dce2",
   "metadata": {},
   "outputs": [
    {
     "data": {
      "text/plain": [
       "(array([[ -9.,   3.],\n",
       "        [-11.,  -1.]]),\n",
       " array([-0.85714286,  0.42857143]))"
      ]
     },
     "execution_count": 27,
     "metadata": {},
     "output_type": "execute_result"
    }
   ],
   "source": [
    "import numpy as np\n",
    "import numpy.linalg as la\n",
    "import sympy as sp\n",
    "#s1 build f\n",
    "def subs_all(formula, variables, values):\n",
    "    '''\n",
    "    helper function for Jocabian\n",
    "    You know what, it's getting to the point where this function\n",
    "    is necessary\n",
    "    '''\n",
    "    result = formula\n",
    "    for i in range(len(values)):\n",
    "        result = result.subs(variables[i], values[i])\n",
    "    return float(result.evalf())\n",
    "\n",
    "def calculated_jacobian(fs, variables, x_k):\n",
    "    '''\n",
    "    fs need to EQUAL TO ZERO!\n",
    "    '''\n",
    "    size = len(fs)\n",
    "    result = np.zeros((size, size))\n",
    "    for i in range(size):\n",
    "        for j in range(size):\n",
    "            result[i][j] = subs_all(sp.diff(fs[i], variables[j]), variables, x_k)\n",
    "    return result\n",
    "\n",
    "def newton_nd_step(x_prev, f_strs, var_str):\n",
    "    '''\n",
    "    Given x_k, string of functions equal to 0, and string for variables: \n",
    "    calculate the parameter for the next iteration of Newton's method \n",
    "    for solving ND non-linear system of equations\n",
    "    '''\n",
    "    fs = [sp.sympify(f_str) for f_str in f_strs]\n",
    "    variables = sp.symbols(var_str)\n",
    "    jac = calculated_jacobian(fs, variables, x_prev)\n",
    "    f_vals = np.array([subs_all(f, variables, x_prev) for f in fs])\n",
    "    s = la.solve(jac, -1*f_vals)\n",
    "    return jac, x_prev+s\n",
    "\n",
    "# Workspace\n",
    "'''\n",
    "x0\n",
    "fv: f vector\n",
    "variable\n",
    "'''\n",
    "f1 = '3*x**2 + 3*x + 3 - y**2 + 3*y - 0*x*y'\n",
    "f2 = '2*x**2 - 3*x - 1 - 3*y**2 - y - 0*x*y'\n",
    "x0 = [-2, 0]\n",
    "fv = [f1, f2]\n",
    "var = 'x y'\n",
    "newton_nd_step(x0, fv, var)\n"
   ]
  },
  {
   "cell_type": "markdown",
   "id": "5d0a6c88-42f4-4567-83d5-cd0f5eb62612",
   "metadata": {},
   "source": [
    "## 2.Determine the length of the interval"
   ]
  },
  {
   "cell_type": "code",
   "execution_count": 5,
   "id": "c45a26e4-927e-43e5-a16f-cde5c188583a",
   "metadata": {},
   "outputs": [
    {
     "name": "stdout",
     "output_type": "stream",
     "text": [
      "length is 2.125\n"
     ]
    }
   ],
   "source": [
    "import numpy as np\n",
    "\n",
    "def f(x):\n",
    "    return pow(x-5,3)\n",
    "    \n",
    "#intervals = []\n",
    "a = -6\n",
    "b = 11\n",
    "it = 3\n",
    "\n",
    "fa = f(a)\n",
    "fb = f(b)\n",
    "iter = 1\n",
    "'''\n",
    "interval = (a, b)\n",
    "intervals.append(interval)\n",
    "'''\n",
    "m = (a + b) / 2\n",
    "fm = f(m)\n",
    "\n",
    "while (iter <= it):\n",
    "    if (fm * fb >= 0):\n",
    "        b = m\n",
    "        fb = fm\n",
    "    elif (fm * fa > 0):\n",
    "        a = m\n",
    "        fa = fm\n",
    "    iter = iter + 1\n",
    "    m = (a + b) / 2\n",
    "    fm = f(m)\n",
    "    #print(\"h\", a, b, m, fa, fb, fm)\n",
    "    '''\n",
    "    interval = (a, b)\n",
    "    intervals.append(interval)\n",
    "    '''\n",
    "\n",
    "'''\n",
    "while (np.abs(fm) >= epsilon):\n",
    "    if (fm * fb > 0):\n",
    "        b = m\n",
    "        fb = fm\n",
    "    elif (fm * fa > 0):\n",
    "        a = m\n",
    "        fa = fm\n",
    "    interval = (a, b)\n",
    "    intervals.append(interval)\n",
    "    m = (a + b) / 2\n",
    "    fm = f(m)\n",
    "    weight = m\n",
    "'''\n",
    "\n",
    "print(\"length is\", b-a)\n"
   ]
  },
  {
   "cell_type": "markdown",
   "id": "4ac0789e-031a-4c87-9994-38f3b2e24754",
   "metadata": {},
   "source": [
    "## 3. Newton's Method - How many iterations?\n",
    "1d newton"
   ]
  },
  {
   "cell_type": "code",
   "execution_count": 9,
   "id": "4f6d70fe-93af-4382-b459-3581003ed4e1",
   "metadata": {},
   "outputs": [
    {
     "data": {
      "text/plain": [
       "(12, 3.0004848031443196)"
      ]
     },
     "execution_count": 9,
     "metadata": {},
     "output_type": "execute_result"
    }
   ],
   "source": [
    "import sympy as sp\n",
    "def Newton_1D_step(x_prev, f_str, var_str):\n",
    "    '''\n",
    "    Given x_k, string representation of function, and string representation of variable\n",
    "    Return the numerical value of x_{k+1}\n",
    "    '''\n",
    "    f = sp.sympify(f_str)\n",
    "    var = sp.symbols(var_str)\n",
    "    df = sp.diff(f, var)\n",
    "    x_next = x_prev - f.subs(var, x_prev) / df.subs(var, x_prev)\n",
    "    return float(x_next)\n",
    "\n",
    "def Newton_1D_step_aux(x_prev, f, df, var):\n",
    "    '''\n",
    "    Given x_k, function, differentiation of the function, and the variable\n",
    "    Return the numerical value of x_{k+1}\n",
    "    Operate as a lighter weighted version of Newton_1D_step\n",
    "    '''\n",
    "    return float(x_prev - f.subs(var, x_prev) / df.subs(var, x_prev))\n",
    "\n",
    "def Newton_1D(x_0, f_str, var_str, err_bound):\n",
    "    '''\n",
    "    Given initial value x_0, string representation of function, string representation of variable\n",
    "    as well as the error bound\n",
    "    Return the number of iterations it takes to get to the error bound\n",
    "    And the final value\n",
    "    '''\n",
    "    f = sp.sympify(f_str)\n",
    "    var = sp.symbols(var_str)\n",
    "    df = sp.diff(f, var)\n",
    "    x_curr = x_0\n",
    "    iterations = 0\n",
    "    while abs(float(f.subs(var, x_curr))) > err_bound:\n",
    "        x_curr = Newton_1D_step_aux(x_curr, f, df, var)\n",
    "        iterations += 1\n",
    "    return iterations, x_curr\n",
    "x0 = 4.4\n",
    "fx = 'x*(3-x)**2'\n",
    "p = -6\n",
    "Newton_1D(x0, fx, 'x', 10**p)"
   ]
  },
  {
   "cell_type": "markdown",
   "id": "3fb3aead-3fcf-4d25-a90d-693acecbe386",
   "metadata": {},
   "source": [
    "## 4.  One Step of Solving 1D Equations\n",
    "3 kinds of 1d"
   ]
  },
  {
   "cell_type": "code",
   "execution_count": 21,
   "id": "eb9a8eac-3455-44ab-9080-f2431b6d5820",
   "metadata": {},
   "outputs": [
    {
     "name": "stdout",
     "output_type": "stream",
     "text": [
      "0.07752129706345294\n",
      "-0.009323979104290144\n",
      "(-0.125, 0.25)\n"
     ]
    }
   ],
   "source": [
    "import sympy as sp\n",
    "def Newton_1D_step(x_prev, f_str, var_str):\n",
    "    '''\n",
    "    Given x_k, string representation of function, and string representation of variable\n",
    "    Return the numerical value of x_{k+1}\n",
    "    '''\n",
    "    f = sp.sympify(f_str)\n",
    "    var = sp.symbols(var_str)\n",
    "    df = sp.diff(f, var)\n",
    "    x_next = x_prev - f.subs(var, x_prev) / df.subs(var, x_prev)\n",
    "    return float(x_next)\n",
    "\n",
    "def Newton_1D_step_aux(x_prev, f, df, var):\n",
    "    '''\n",
    "    Given x_k, function, differentiation of the function, and the variable\n",
    "    Return the numerical value of x_{k+1}\n",
    "    Operate as a lighter weighted version of Newton_1D_step\n",
    "    '''\n",
    "    return float(x_prev - f.subs(var, x_prev) / df.subs(var, x_prev))\n",
    "\n",
    "def Newton_1D(x_0, f_str, var_str, err_bound):\n",
    "    '''\n",
    "    Given initial value x_0, string representation of function, string representation of variable\n",
    "    as well as the error bound\n",
    "    Return the number of iterations it takes to get to the error bound\n",
    "    And the final value\n",
    "    '''\n",
    "    f = sp.sympify(f_str)\n",
    "    var = sp.symbols(var_str)\n",
    "    df = sp.diff(f, var)\n",
    "    x_curr = x_0\n",
    "    iterations = 0\n",
    "    while abs(float(f.subs(var, x_curr))) > err_bound:\n",
    "        x_curr = Newton_1D_step_aux(x_curr, f, df, var)\n",
    "        iterations += 1\n",
    "    return iterations, x_curr\n",
    "\n",
    "def secant_1D_step(x_prev0, x_prev1, f_str, var_str):\n",
    "    '''\n",
    "    Given x_{k-1}, x_{k}, string representation of function, and string representation of variable\n",
    "    Return the numerical value of x_{k+1}\n",
    "    '''\n",
    "    f = sp.sympify(f_str)\n",
    "    var = sp.symbols(var_str)\n",
    "    x_next = x_prev1 - f.subs(var, x_prev1) / ((f.subs(var, x_prev0) - f.subs(var, x_prev1)) / (x_prev0 - x_prev1))\n",
    "    return float(x_next)\n",
    "def bisection_1D_step(left, right, f_str, var_str):\n",
    "    f = sp.sympify(f_str)\n",
    "    var = sp.symbols(var_str)\n",
    "    mid = (left + right) / 2\n",
    "    if float(f.subs(var, left) * f.subs(var, mid)) < 0:\n",
    "        right = mid\n",
    "    else:\n",
    "        left = mid\n",
    "    return left, right\n",
    "'''\n",
    "\n",
    "'''\n",
    "f_str = 'sin(x/6)'\n",
    "var_str = 'x'\n",
    "nx1 = -2\n",
    "\n",
    "sx0 = 1\n",
    "sx1 = -2\n",
    "\n",
    "a = -2\n",
    "b = 1\n",
    "j = 3\n",
    "\n",
    "newton_res = Newton_1D_step(nx1, f_str, var_str)\n",
    "\n",
    "secant_res = secant_1D_step(sx0, sx1, f_str, var_str)\n",
    "\n",
    "temp = bisection_1D_step(a, b, f_str, var_str)\n",
    "for i in range(j - 1):\n",
    "    temp = bisection_1D_step(temp[0], temp[1], f_str, var_str)\n",
    "\n",
    "print(newton_res)\n",
    "print(secant_res)\n",
    "print(temp)"
   ]
  },
  {
   "cell_type": "markdown",
   "id": "e4e269a4-730d-48c9-8229-77ae7ade2242",
   "metadata": {},
   "source": [
    "## C1 Secant"
   ]
  },
  {
   "cell_type": "code",
   "execution_count": null,
   "id": "4e18c08c-af6f-46be-8c5d-ed42a0091847",
   "metadata": {},
   "outputs": [],
   "source": [
    "import numpy as np\n",
    "# Need two initial guesses\n",
    "roots = []\n",
    "def secant(point): \n",
    "    xbefore = point[0]\n",
    "    x = point[1]\n",
    "    count = 0\n",
    "\n",
    "    while count < 5:\n",
    "        df_approx = (f(x)-f(xbefore))/(x-xbefore)\n",
    "        xbefore = x\n",
    "        x = x - f(x)/df_approx\n",
    "        roots.append(x)\n",
    "        count+=1\n",
    "secant(xks)\n",
    "roots = np.array(roots)"
   ]
  },
  {
   "cell_type": "markdown",
   "id": "b2e2fc2e-0d3f-46ce-ae45-325c42d3512b",
   "metadata": {},
   "source": [
    "## C2 Bisection"
   ]
  },
  {
   "cell_type": "code",
   "execution_count": null,
   "id": "24cdc9ae-6aa7-4069-af04-e6253bf55564",
   "metadata": {},
   "outputs": [],
   "source": [
    "import numpy as np\n",
    "def bisetic(inter):\n",
    "    a = inter[0]\n",
    "    b = inter[1]\n",
    "    if (a >= b or np.sign(function(a)) == np.sign(function(b))):\n",
    "        return None\n",
    "    fa = function(a)\n",
    "    \n",
    "    for i in range(n_iter):\n",
    "        m = (a+b)/2\n",
    "        fm = function(m)  \n",
    "        if (np.abs(fm) <= epsilon):\n",
    "             return m\n",
    "        if  np.sign(fa) == np.sign(fm):\n",
    "            a = m \n",
    "            fa = fm \n",
    "        else:\n",
    "            b = m\n",
    "    return None\n",
    "roots = []\n",
    "for i in range(len(intervals)):\n",
    "    roots.append(bisetic(intervals[i]))"
   ]
  },
  {
   "cell_type": "markdown",
   "id": "239ef458-0d4d-45ed-907c-043daf881927",
   "metadata": {},
   "source": [
    "##  C3 Newton’s Method for Root-Finding in 2-d"
   ]
  },
  {
   "cell_type": "code",
   "execution_count": null,
   "id": "32dd2d52-dff0-49c6-b318-58352814acd7",
   "metadata": {},
   "outputs": [],
   "source": [
    "import numpy as np\n",
    "import numpy.linalg as la\n",
    "import sympy as sym\n",
    "\n",
    "def f(x,y):\n",
    "    return np.array([x**3 - y**2, x+y*x**2 - 2])\n",
    "\n",
    "# A function that returns the Jacobian may be useful\n",
    "def Jacob(xi):\n",
    "    x, y = sym.symbols('x y')\n",
    "    fnt = np.array([x**3 - y**2, x+y*x**2 - 2])\n",
    "    n = fnt.shape[0]\n",
    "    J = np.zeros((n,n))\n",
    "    xs = [x, y]\n",
    "    for i in range(n):\n",
    "        for j in range(n):\n",
    "            diff = sym.diff(fnt[i], xs[j])\n",
    "            J[i,j] = diff.evalf(subs={xs[0]:xi[0], xs[1]:xi[1]})\n",
    "    return J\n",
    "\n",
    "x = xi\n",
    "while True:\n",
    "    x = x - la.inv(Jacob(x))@f(x[0],x[1])\n",
    "    if (la.norm(f(x[0],x[1]), 2) < tol):\n",
    "        break\n",
    "root = x\n",
    "res = la.norm(f(x[0],x[1]), 2)"
   ]
  },
  {
   "cell_type": "markdown",
   "id": "e0ac53f4-16c1-4383-8db4-19b538483fbb",
   "metadata": {},
   "source": [
    "## C4 Local Convergence of Newton’s Method"
   ]
  },
  {
   "cell_type": "code",
   "execution_count": null,
   "id": "e588dc67-45d5-4295-8680-19f38f1355e2",
   "metadata": {},
   "outputs": [],
   "source": []
  },
  {
   "cell_type": "code",
   "execution_count": null,
   "id": "ba2b4ab6-893c-4567-9e86-a7756ce08f20",
   "metadata": {},
   "outputs": [],
   "source": []
  }
 ],
 "metadata": {
  "kernelspec": {
   "display_name": "Python 3 (ipykernel)",
   "language": "python",
   "name": "python3"
  },
  "language_info": {
   "codemirror_mode": {
    "name": "ipython",
    "version": 3
   },
   "file_extension": ".py",
   "mimetype": "text/x-python",
   "name": "python",
   "nbconvert_exporter": "python",
   "pygments_lexer": "ipython3",
   "version": "3.9.6"
  }
 },
 "nbformat": 4,
 "nbformat_minor": 5
}
